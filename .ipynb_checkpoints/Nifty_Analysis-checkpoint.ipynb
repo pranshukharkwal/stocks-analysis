{
 "cells": [
  {
   "cell_type": "code",
   "execution_count": 1,
   "id": "b91b1b9e",
   "metadata": {},
   "outputs": [],
   "source": [
    "import pandas as pd"
   ]
  },
  {
   "cell_type": "code",
   "execution_count": 33,
   "id": "75c98908",
   "metadata": {},
   "outputs": [
    {
     "name": "stdout",
     "output_type": "stream",
     "text": [
      "Buy the dip strategy\n",
      "\tTotal invested : 110000\n",
      "\tPresent worth : 111389.78538865646\n",
      "\tProfit Percent : 1.2634412624149594\n",
      "SIP strategy\n",
      "\tTotal invested : 90000\n",
      "\tPresent worth : 87921.02466231311\n",
      "\tProfit Percent : -2.309972597429878\n"
     ]
    }
   ],
   "source": [
    "data = pd.read_csv('nifty50_one_year.csv')\n",
    "sip = 10000\n",
    "units = 0\n",
    "invested = 0\n",
    "for ind in reversed(data.index):\n",
    "    if ind != 249:\n",
    "        today = ind\n",
    "        yes = ind+1\n",
    "        open_today = int(float(data['Open'][today].replace(',' , '')))\n",
    "        close_yes = int(float(data['Close'][yes].replace(',' , '')))\n",
    "        diff = int(float((close_yes))) - int(float((open_today)))\n",
    "        if diff > 0:\n",
    "            percent =  diff*100/close_yes\n",
    "            if percent >= 1:\n",
    "                close_today = int(float(data['Close'][today].replace(',' , '')))\n",
    "                units = units + (sip/close_today)\n",
    "                invested = invested + sip\n",
    "\n",
    "worth = units * 16985.60\n",
    "profit = worth - invested\n",
    "profit_percent = (profit*100)/invested\n",
    "print(f\"Buy the dip strategy\\n\\tTotal invested : {invested}\\n\\tPresent worth : {worth}\\n\\tProfit Percent : {profit_percent}\")\n",
    "\n",
    "units = 0\n",
    "invested = 0\n",
    "prev = -1\n",
    "for ind in reversed(data.index):    \n",
    "    date = data['Date'][ind]\n",
    "    month = int(date.split('/')[0])\n",
    "    if month != prev:\n",
    "        units = units + (sip/int(float(data['Close'][ind].replace(',' , ''))))\n",
    "        invested = invested + sip\n",
    "    prev = month\n",
    "        \n",
    "worth = units * 16985.60\n",
    "profit = worth - invested\n",
    "profit_percent = (profit*100)/invested\n",
    "print(f\"SIP strategy\\n\\tTotal invested : {invested}\\n\\tPresent worth : {worth}\\n\\tProfit Percent : {profit_percent}\")\n"
   ]
  },
  {
   "cell_type": "code",
   "execution_count": 32,
   "id": "7d9e4db6",
   "metadata": {},
   "outputs": [
    {
     "name": "stdout",
     "output_type": "stream",
     "text": [
      "           Date       Open       High        Low      Close\n",
      "0    03/16/2023  16,994.65  17,062.45  16,850.15  16,985.60\n",
      "1    03/15/2023  17,166.45  17,211.35  16,938.90  16,972.15\n",
      "2    03/14/2023  17,421.90  17,224.65  16,987.10  17,043.30\n",
      "3    03/13/2023  17,421.90  17,529.90  17,113.45  17,154.30\n",
      "4    03/10/2023  17,443.80  17,451.50  17,324.35  17,412.90\n",
      "..          ...        ...        ...        ...        ...\n",
      "245  03/23/2022  17,405.05  17,442.40  17,199.60  17,245.65\n",
      "246  03/22/2022  17,120.40  17,334.40  17,006.30  17,315.50\n",
      "247  03/21/2022  17,329.50  17,353.35  17,096.40  17,117.60\n",
      "248  03/17/2022  17,202.90  17,344.60  17,175.75  17,287.05\n",
      "249  03/16/2022  16,876.65  16,987.90  16,837.85  16,975.35\n",
      "\n",
      "[250 rows x 5 columns]\n"
     ]
    }
   ],
   "source": [
    "print(data)"
   ]
  },
  {
   "cell_type": "code",
   "execution_count": 26,
   "id": "356b9832",
   "metadata": {},
   "outputs": [
    {
     "name": "stdout",
     "output_type": "stream",
     "text": [
      "11.688385253221545\n",
      "210000\n",
      "198534.23655711988\n",
      "Profit percentage -5.45988735375244\n"
     ]
    }
   ],
   "source": [
    "# SIP Strategy\n",
    "units = 0\n",
    "invested = 0\n",
    "for ind in reversed(data.index):    \n",
    "    date = data['Date'][ind]\n",
    "    day = int(date.split('/')[0])\n",
    "    if day == 1:\n",
    "        units = units + (sip/int(float(data['Close'][ind].replace(',' , ''))))\n",
    "        invested = invested + sip\n",
    "\n",
    "print(units)\n",
    "print(invested)\n",
    "worth = units * 16985.60\n",
    "print(worth)\n",
    "profit = worth - invested\n",
    "profit_percent = (profit*100)/invested\n",
    "print(\"Profit percentage\" , profit_percent)"
   ]
  },
  {
   "cell_type": "code",
   "execution_count": 28,
   "id": "e7eb5ac2",
   "metadata": {},
   "outputs": [
    {
     "name": "stdout",
     "output_type": "stream",
     "text": [
      "            Date          Open          High           Low         Close  \\\n",
      "0     2018-03-19  10215.349609  10224.549805  10075.299805  10094.250000   \n",
      "1     2018-03-20  10051.549805  10155.650391  10049.099609  10124.349609   \n",
      "2     2018-03-21  10181.950195  10227.299805  10132.950195  10155.250000   \n",
      "3     2018-03-22  10167.500000  10207.849609  10105.400391  10114.750000   \n",
      "4     2018-03-23   9968.799805  10027.700195   9951.900391   9998.049805   \n",
      "...          ...           ...           ...           ...           ...   \n",
      "1231  2023-03-10  17443.800781  17451.500000  17324.349609  17412.900391   \n",
      "1232  2023-03-13  17421.900391  17529.900391  17113.449219  17154.300781   \n",
      "1233  2023-03-14  17160.550781  17224.650391  16987.099609  17043.300781   \n",
      "1234  2023-03-15  17166.449219  17211.349609  16938.900391  16972.150391   \n",
      "1235  2023-03-16  16994.650391  17062.449219  16850.150391  16985.599609   \n",
      "\n",
      "         Adj Close    Volume  \n",
      "0     10094.250000  210200.0  \n",
      "1     10124.349609  203000.0  \n",
      "2     10155.250000  204800.0  \n",
      "3     10114.750000  230500.0  \n",
      "4      9998.049805  285700.0  \n",
      "...            ...       ...  \n",
      "1231  17412.900391  235900.0  \n",
      "1232  17154.300781  254900.0  \n",
      "1233  17043.300781  290600.0  \n",
      "1234  16972.150391  248200.0  \n",
      "1235  16985.599609  349800.0  \n",
      "\n",
      "[1236 rows x 7 columns]\n"
     ]
    }
   ],
   "source": [
    "data = pd.read_csv('nifty50_five_year.csv')\n",
    "print(data)"
   ]
  },
  {
   "cell_type": "code",
   "execution_count": null,
   "id": "5e6bb01e",
   "metadata": {},
   "outputs": [],
   "source": [
    "data = pd.read_csv('nifty50_five_year.csv')\n",
    "sip = 10000\n",
    "units = 0\n",
    "invested = 0\n",
    "for ind in reversed(data.index):\n",
    "    if ind != 249:\n",
    "        today = ind\n",
    "        yes = ind+1\n",
    "        open_today = int(float(data['Open'][today].replace(',' , '')))\n",
    "        close_yes = int(float(data['Close'][yes].replace(',' , '')))\n",
    "        diff = int(float((close_yes))) - int(float((open_today)))\n",
    "        if diff > 0:\n",
    "            percent =  diff*100/close_yes\n",
    "            if percent >= 1:\n",
    "                close_today = int(float(data['Close'][today].replace(',' , '')))\n",
    "                units = units + (sip/close_today)\n",
    "                invested = invested + sip\n",
    "\n",
    "worth = units * 16985.60\n",
    "profit = worth - invested\n",
    "profit_percent = (profit*100)/invested\n",
    "print(f\"Buy the dip strategy\\n\\tTotal invested : {invested}\\n\\tPresent worth : {worth}\\n\\tProfit Percent : {profit_percent}\")\n",
    "\n",
    "units = 0\n",
    "invested = 0\n",
    "for ind in reversed(data.index):    \n",
    "    date = data['Date'][ind]\n",
    "    day = int(date.split('/')[0])\n",
    "    if day == 1:\n",
    "        units = units + (sip/int(float(data['Close'][ind].replace(',' , ''))))\n",
    "        invested = invested + sip\n",
    "        \n",
    "worth = units * 16985.60\n",
    "profit = worth - invested\n",
    "profit_percent = (profit*100)/invested\n",
    "print(f\"SIP strategy\\n\\tTotal invested : {invested}\\n\\tPresent worth : {worth}\\n\\tProfit Percent : {profit_percent}\")\n"
   ]
  }
 ],
 "metadata": {
  "kernelspec": {
   "display_name": "Python 3 (ipykernel)",
   "language": "python",
   "name": "python3"
  },
  "language_info": {
   "codemirror_mode": {
    "name": "ipython",
    "version": 3
   },
   "file_extension": ".py",
   "mimetype": "text/x-python",
   "name": "python",
   "nbconvert_exporter": "python",
   "pygments_lexer": "ipython3",
   "version": "3.8.10"
  }
 },
 "nbformat": 4,
 "nbformat_minor": 5
}
